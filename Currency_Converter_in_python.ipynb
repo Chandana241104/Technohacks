{
  "nbformat": 4,
  "nbformat_minor": 0,
  "metadata": {
    "colab": {
      "provenance": [],
      "authorship_tag": "ABX9TyPrbyQHPGE7KmN6BruEDCaJ",
      "include_colab_link": true
    },
    "kernelspec": {
      "name": "python3",
      "display_name": "Python 3"
    },
    "language_info": {
      "name": "python"
    }
  },
  "cells": [
    {
      "cell_type": "markdown",
      "metadata": {
        "id": "view-in-github",
        "colab_type": "text"
      },
      "source": [
        "<a href=\"https://colab.research.google.com/github/Chandana241104/Technohacks/blob/main/Currency_Converter_in_python.ipynb\" target=\"_parent\"><img src=\"https://colab.research.google.com/assets/colab-badge.svg\" alt=\"Open In Colab\"/></a>"
      ]
    },
    {
      "cell_type": "code",
      "execution_count": 1,
      "metadata": {
        "colab": {
          "base_uri": "https://localhost:8080/"
        },
        "id": "FFUYNl1c3mra",
        "outputId": "9193c63a-34a9-46d1-aa2e-29c1a56bf162"
      },
      "outputs": [
        {
          "output_type": "stream",
          "name": "stdout",
          "text": [
            "Requirement already satisfied: requests in /usr/local/lib/python3.10/dist-packages (2.31.0)\n",
            "Requirement already satisfied: charset-normalizer<4,>=2 in /usr/local/lib/python3.10/dist-packages (from requests) (3.3.2)\n",
            "Requirement already satisfied: idna<4,>=2.5 in /usr/local/lib/python3.10/dist-packages (from requests) (3.7)\n",
            "Requirement already satisfied: urllib3<3,>=1.21.1 in /usr/local/lib/python3.10/dist-packages (from requests) (2.0.7)\n",
            "Requirement already satisfied: certifi>=2017.4.17 in /usr/local/lib/python3.10/dist-packages (from requests) (2024.6.2)\n"
          ]
        }
      ],
      "source": [
        "pip install requests"
      ]
    },
    {
      "cell_type": "code",
      "source": [
        "import requests\n",
        "\n",
        "def get_exchange_rate(api_key, base_currency, target_currency):\n",
        "    url = f\"https://api.exchangerate-api.com/v4/latest/{base_currency}\"\n",
        "    response = requests.get(url)\n",
        "    data = response.json()\n",
        "    if target_currency in data['rates']:\n",
        "        return data['rates'][target_currency]\n",
        "    else:\n",
        "        raise ValueError(f\"Currency {target_currency} not found.\")\n",
        "\n",
        "def convert_currency(api_key, amount, base_currency, target_currency):\n",
        "    rate = get_exchange_rate(api_key, base_currency, target_currency)\n",
        "    return amount * rate\n",
        "\n",
        "# Replace 'YOUR_API_KEY' with your actual API key\n",
        "api_key = 'YOUR_API_KEY'\n",
        "\n",
        "# Example usage\n",
        "amount = 100  # amount to convert\n",
        "base_currency = 'USD'\n",
        "target_currency = 'EUR'\n",
        "\n",
        "converted_amount = convert_currency(api_key, amount, base_currency, target_currency)\n",
        "print(f\"{amount} {base_currency} is equal to {converted_amount:.2f} {target_currency}\")\n"
      ],
      "metadata": {
        "colab": {
          "base_uri": "https://localhost:8080/"
        },
        "id": "ggbWYUaLuuZn",
        "outputId": "bf7e418b-39bf-4511-f482-8f6d7369525a"
      },
      "execution_count": 2,
      "outputs": [
        {
          "output_type": "stream",
          "name": "stdout",
          "text": [
            "100 USD is equal to 93.10 EUR\n"
          ]
        }
      ]
    }
  ]
}