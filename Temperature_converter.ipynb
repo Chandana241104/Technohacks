{
  "nbformat": 4,
  "nbformat_minor": 0,
  "metadata": {
    "colab": {
      "provenance": [],
      "authorship_tag": "ABX9TyOBPKTCMCO0HWMoji4UR08+",
      "include_colab_link": true
    },
    "kernelspec": {
      "name": "python3",
      "display_name": "Python 3"
    },
    "language_info": {
      "name": "python"
    }
  },
  "cells": [
    {
      "cell_type": "markdown",
      "metadata": {
        "id": "view-in-github",
        "colab_type": "text"
      },
      "source": [
        "<a href=\"https://colab.research.google.com/github/Chandana241104/Technohacks/blob/main/Temperature_converter.ipynb\" target=\"_parent\"><img src=\"https://colab.research.google.com/assets/colab-badge.svg\" alt=\"Open In Colab\"/></a>"
      ]
    },
    {
      "cell_type": "code",
      "source": [
        "def celsius_to_fahrenheit(celsius):\n",
        "    return (celsius * 9/5) + 32\n",
        "\n",
        "def fahrenheit_to_celsius(fahrenheit):\n",
        "    return (fahrenheit - 32) * 5/9\n",
        "\n",
        "def celsius_to_kelvin(celsius):\n",
        "    return celsius + 273.15\n",
        "\n",
        "def kelvin_to_celsius(kelvin):\n",
        "    return kelvin - 273.15\n",
        "\n",
        "def fahrenheit_to_kelvin(fahrenheit):\n",
        "    celsius = fahrenheit_to_celsius(fahrenheit)\n",
        "    return celsius_to_kelvin(celsius)\n",
        "\n",
        "def kelvin_to_fahrenheit(kelvin):\n",
        "    celsius = kelvin_to_celsius(kelvin)\n",
        "    return celsius_to_fahrenheit(celsius)\n",
        "\n",
        "def main():\n",
        "    while True:\n",
        "        print(\"\\nTemperature Converter\")\n",
        "        print(\"1. Celsius to Fahrenheit\")\n",
        "        print(\"2. Fahrenheit to Celsius\")\n",
        "        print(\"3. Celsius to Kelvin\")\n",
        "        print(\"4. Kelvin to Celsius\")\n",
        "        print(\"5. Fahrenheit to Kelvin\")\n",
        "        print(\"6. Kelvin to Fahrenheit\")\n",
        "        print(\"7. Quit\")\n",
        "\n",
        "        choice = input(\"Enter your choice: \")\n",
        "\n",
        "        if choice == '1':\n",
        "            celsius = float(input(\"Enter temperature in Celsius: \"))\n",
        "            print(f\"{celsius}°C is {celsius_to_fahrenheit(celsius):.2f}°F\")\n",
        "        elif choice == '2':\n",
        "            fahrenheit = float(input(\"Enter temperature in Fahrenheit: \"))\n",
        "            print(f\"{fahrenheit}°F is {fahrenheit_to_celsius(fahrenheit):.2f}°C\")\n",
        "        elif choice == '3':\n",
        "            celsius = float(input(\"Enter temperature in Celsius: \"))\n",
        "            print(f\"{celsius}°C is {celsius_to_kelvin(celsius):.2f}K\")\n",
        "        elif choice == '4':\n",
        "            kelvin = float(input(\"Enter temperature in Kelvin: \"))\n",
        "            print(f\"{kelvin}K is {kelvin_to_celsius(kelvin):.2f}°C\")\n",
        "        elif choice == '5':\n",
        "            fahrenheit = float(input(\"Enter temperature in Fahrenheit: \"))\n",
        "            print(f\"{fahrenheit}°F is {fahrenheit_to_kelvin(fahrenheit):.2f}K\")\n",
        "        elif choice == '6':\n",
        "            kelvin = float(input(\"Enter temperature in Kelvin: \"))\n",
        "            print(f\"{kelvin}K is {kelvin_to_fahrenheit(kelvin):.2f}°F\")\n",
        "        elif choice == '7':\n",
        "            print(\"Goodbye!\")\n",
        "            break\n",
        "        else:\n",
        "            print(\"Invalid choice. Please try again.\")\n",
        "\n",
        "if __name__ == \"__main__\":\n",
        "    main()\n"
      ],
      "metadata": {
        "colab": {
          "base_uri": "https://localhost:8080/"
        },
        "id": "QBZVlq4r9bbm",
        "outputId": "da708ffa-62fb-4ec3-9515-4e7d00c75fd5"
      },
      "execution_count": 7,
      "outputs": [
        {
          "output_type": "stream",
          "name": "stdout",
          "text": [
            "\n",
            "Temperature Converter\n",
            "1. Celsius to Fahrenheit\n",
            "2. Fahrenheit to Celsius\n",
            "3. Celsius to Kelvin\n",
            "4. Kelvin to Celsius\n",
            "5. Fahrenheit to Kelvin\n",
            "6. Kelvin to Fahrenheit\n",
            "7. Quit\n",
            "Enter your choice: 1\n",
            "Enter temperature in Celsius: 52\n",
            "52.0°C is 125.60°F\n",
            "\n",
            "Temperature Converter\n",
            "1. Celsius to Fahrenheit\n",
            "2. Fahrenheit to Celsius\n",
            "3. Celsius to Kelvin\n",
            "4. Kelvin to Celsius\n",
            "5. Fahrenheit to Kelvin\n",
            "6. Kelvin to Fahrenheit\n",
            "7. Quit\n",
            "Enter your choice: 7\n",
            "Goodbye!\n"
          ]
        }
      ]
    }
  ]
}